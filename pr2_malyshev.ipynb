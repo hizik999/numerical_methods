{
 "cells": [
  {
   "cell_type": "markdown",
   "metadata": {},
   "source": [
    "# метод Ньютона-Бройдена, метод секущих и метод итераций"
   ]
  },
  {
   "cell_type": "code",
   "execution_count": null,
   "metadata": {},
   "outputs": [],
   "source": [
    "def f(x, a):\n",
    "    res = 0\n",
    "    for i in range(len(a)):\n",
    "        res += (x ** i) * a[i]\n",
    "    return res\n",
    "\n",
    "def deriv(a):\n",
    "    b = []\n",
    "    for i in range(1, len(a)):\n",
    "        b.append(a[i] * i)\n",
    "    return b\n",
    "\n",
    "def g(x0):\n",
    "    return (x0**2 + 6) / 5\n",
    "\n",
    "def nextx(x0):\n",
    "    c = 0.7\n",
    "    return x0 - f(x0, a) / f(x0, deriv(a)) * c\n",
    "\n",
    "def newton_broiden_method(x0, e):\n",
    "    max_iter = 1000\n",
    "    for i in range(max_iter):\n",
    "        s = (nextx(x0) - x0)/(1 - (nextx(x0) - x0) / (x0 - nextx(x0)))\n",
    "        if abs(s) < e:\n",
    "            print(f\"Корень найден: {x0}, количество итераций: {i}\")\n",
    "            return x0\n",
    "        x0 = nextx(x0)\n",
    "    return \"Корень не был найден за 1000 итераций\"\n",
    "\n",
    "def secant_method(x0, x1, e):\n",
    "    max_iter = 1000\n",
    "    for i in range(max_iter):\n",
    "        f_x0 = f(x0, a)\n",
    "        f_x1 = f(x1, a)\n",
    "        if abs(f_x1) < e:\n",
    "            print(f\"Корень найден: {x1}, количество итераций: {i}\")\n",
    "            return x1\n",
    "        x_n = x1 - f_x1 * (x1 - x0) / (f_x1 - f_x0)\n",
    "        x0, x1 = x1, x_n\n",
    "    return \"Корень не был найден за 1000 итераций\"\n",
    "\n",
    "def iteration_method(x0, e, max_iter):\n",
    "    max_iter = 1000\n",
    "    for i in range(max_iter):\n",
    "        x_n = g(x0)\n",
    "        if abs(x_n - x0) < e:\n",
    "            print(f\"Корень найден: {x_n}, количество итераций: {i}\")\n",
    "            return x_n\n",
    "        x0 = x_n\n",
    "    return \"Корень не был найден за 1000 итераций\"\n",
    "\n",
    "\n",
    "a = [6, -5, 1]\n",
    "x0 = 1\n",
    "x1 = 1.25\n",
    "e = 1e-6\n",
    "\n",
    "\n",
    "print(newton_broiden_method(x0, e))\n",
    "print(secant_method(x0, x1, e))\n",
    "print(iteration_method(x0, e))"
   ]
  }
 ],
 "metadata": {
  "kernelspec": {
   "display_name": "venv",
   "language": "python",
   "name": "python3"
  },
  "language_info": {
   "name": "python",
   "version": "3.11.5"
  }
 },
 "nbformat": 4,
 "nbformat_minor": 2
}
