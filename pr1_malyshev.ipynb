{
 "cells": [
  {
   "cell_type": "markdown",
   "metadata": {},
   "source": [
    "# Метод половинного деления"
   ]
  },
  {
   "cell_type": "code",
   "execution_count": 6,
   "metadata": {},
   "outputs": [
    {
     "name": "stdout",
     "output_type": "stream",
     "text": [
      "Корень: 1.5213796496391296\n",
      "Проверка: f(1.5213796496391296) = -3.3977926561234995e-07\n"
     ]
    }
   ],
   "source": [
    "def half_division_method(f, a, b, eps=1e-7, max_iter=100):\n",
    "    if f(a) * f(b) >= 0:\n",
    "        print(\"На данном интервале нет корня или он не единственный.\")\n",
    "        return None\n",
    "    \n",
    "    iteration = 0\n",
    "    # орагничение итераций, чтобы не уйти в бесконечный цикл\n",
    "    while (b - a) / 2 > eps and iteration < max_iter:\n",
    "        c = (a + b) / 2  # середина отрезка\n",
    "        if f(c) == 0:  # если найден точный корень\n",
    "            return c\n",
    "        elif f(a) * f(c) < 0:  # если корень находится между a и b\n",
    "            b = c\n",
    "        else:  # если корень находится между a и c\n",
    "            a = c\n",
    "        iteration += 1\n",
    "\n",
    "    return (a + b) / 2  # возвращаем приближение корня\n",
    "\n",
    "\n",
    "# функция\n",
    "def f(x):\n",
    "    return x**3 - x - 2\n",
    "\n",
    "# заданные интервалы\n",
    "a = 1\n",
    "b = 2\n",
    "\n",
    "# проверка работы метода\n",
    "root = half_division_method(f, a, b)\n",
    "if root is not None:\n",
    "    print(f\"Корень: {root}\")\n",
    "    print(f\"Проверка: f({root}) = {f(root)}\")\n",
    "else:\n",
    "    print(\"Метод не сходится.\")"
   ]
  },
  {
   "cell_type": "markdown",
   "metadata": {},
   "source": [
    "# Метод Ньютона"
   ]
  },
  {
   "cell_type": "code",
   "execution_count": 7,
   "metadata": {},
   "outputs": [
    {
     "name": "stdout",
     "output_type": "stream",
     "text": [
      "Корень: 1.5213797068045751\n",
      "Проверка: f(1.5213797068045751) = 4.529709940470639e-14\n"
     ]
    }
   ],
   "source": [
    "def newton_method(f, df, x0, eps=1e-7, max_iter=100):\n",
    "    x = x0\n",
    "    iteration = 0\n",
    "    # орагничение итераций, чтобы не уйти в бесконечный цикл\n",
    "    while abs(f(x)) > eps and iteration < max_iter:\n",
    "        # вычисляем новое приближение\n",
    "        if df(x) == 0:\n",
    "            print(\"Производная равна нулю. Метод Ньютона не применим.\")\n",
    "            return None\n",
    "        x_new = x - f(x) / df(x)\n",
    "\n",
    "        # проверка сходимости\n",
    "        if abs(x_new - x) < eps:\n",
    "            return x_new\n",
    "\n",
    "        x = x_new\n",
    "        iteration += 1\n",
    "\n",
    "    if iteration == max_iter:\n",
    "        print(\"Достигнуто максимальное количество итераций. Метод может не сойтись.\")\n",
    "        return None\n",
    "\n",
    "    return x\n",
    "\n",
    "\n",
    "# функция\n",
    "def f(x):\n",
    "    return x**3 - x - 2\n",
    "\n",
    "# производная функции\n",
    "def df(x):\n",
    "    return 3 * x**2 - 1\n",
    "\n",
    "\n",
    "# начальное приближение\n",
    "x0 = 1.5\n",
    "\n",
    "# проверка работы метода\n",
    "root = newton_method(f, df, x0)\n",
    "if root is not None:\n",
    "    print(f\"Корень: {root}\")\n",
    "    print(f\"Проверка: f({root}) = {f(root)}\")\n",
    "else:\n",
    "    print(\"Метод Ньютона не сходится.\")"
   ]
  }
 ],
 "metadata": {
  "kernelspec": {
   "display_name": "venv",
   "language": "python",
   "name": "python3"
  },
  "language_info": {
   "codemirror_mode": {
    "name": "ipython",
    "version": 3
   },
   "file_extension": ".py",
   "mimetype": "text/x-python",
   "name": "python",
   "nbconvert_exporter": "python",
   "pygments_lexer": "ipython3",
   "version": "3.11.5"
  }
 },
 "nbformat": 4,
 "nbformat_minor": 2
}
