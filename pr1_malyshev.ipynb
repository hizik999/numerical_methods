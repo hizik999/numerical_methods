{
 "cells": [
  {
   "cell_type": "markdown",
   "metadata": {},
   "source": [
    "# Метод половинного деления"
   ]
  },
  {
   "cell_type": "code",
   "execution_count": 14,
   "metadata": {},
   "outputs": [
    {
     "name": "stdout",
     "output_type": "stream",
     "text": [
      "Корень: 1.2971564382314682\n"
     ]
    }
   ],
   "source": [
    "def half_division_method(coefs, a, b, eps=1e-7, max_iter=100):\n",
    "    if f(a, coefs) * f(b, coefs) >= 0:\n",
    "        print(\"На данном интервале нет корня или он не единственный.\")\n",
    "        return None\n",
    "    \n",
    "    iteration = 0\n",
    "    ### орагничение итераций, чтобы не уйти в бесконечный цикл\n",
    "    while (b - a) / 2 > eps and iteration < max_iter:\n",
    "        c = (a + b) / 2  # середина отрезка\n",
    "        if f(c, coefs) == 0:  # если найден точный корень\n",
    "            return c\n",
    "        elif f(a, coefs) * f(c, coefs) < 0:  # если корень находится между a и b\n",
    "            b = c\n",
    "        else:  # если корень находится между a и c\n",
    "            a = c\n",
    "        iteration += 1\n",
    "\n",
    "    return (a + b) / 2  # возвращаем приближение корня\n",
    "\n",
    "\n",
    "\n",
    "### функция\n",
    "def f(x, coefs):\n",
    "    return sum(coefs[i] * x ** i for i in range(len(coefs)))\n",
    "\n",
    "### заданные интервалы\n",
    "a = -10\n",
    "b = 10\n",
    "### коэффициенты многочлена\n",
    "coefs = [1, 0, 2, -2]\n",
    "\n",
    "### проверка работы метода\n",
    "root = half_division_method(coefs, a, b)\n",
    "if root is not None:\n",
    "    print(f\"Корень: {root}\")\n",
    "else:\n",
    "    print(\"Метод не сходится.\")"
   ]
  },
  {
   "cell_type": "markdown",
   "metadata": {},
   "source": [
    "# Метод Ньютона"
   ]
  },
  {
   "cell_type": "code",
   "execution_count": 26,
   "metadata": {},
   "outputs": [
    {
     "name": "stdout",
     "output_type": "stream",
     "text": [
      "Корень: 1.2971565081774243\n"
     ]
    }
   ],
   "source": [
    "import sympy as sp\n",
    "\n",
    "def newtons_method(coefs, x0, e=1e-6, max_iter=100):\n",
    "    x_n = float(x0) # начальное приближение\n",
    "\n",
    "    for i in range(max_iter):\n",
    "        func = f(x_n, coefs)\n",
    "        dfunc = deriv(x_n, coefs)\n",
    "\n",
    "        if abs(dfunc) < 1e-10: \n",
    "            print(\"Производная меньше погрешности, метод не работает.\")\n",
    "            return None\n",
    "\n",
    "        x_next = x_n - func / dfunc \n",
    "        stop = abs(x_next - x_n) / max(1, abs(x_next))\n",
    "\n",
    "        if stop < e: \n",
    "            return x_next \n",
    "\n",
    "        x_n = x_next \n",
    "\n",
    "    return None\n",
    "\n",
    "\n",
    "# функция\n",
    "def f(x, coefs):\n",
    "    return sum(float(coefs[i] * x ** i) for i in range(len(coefs)))\n",
    "\n",
    "# производная\n",
    "def deriv(x_n, coefs):\n",
    "    x = sp.Symbol('x')\n",
    "    df_dx = sp.diff(sum(coefs[i] * x ** i for i in range(len(coefs))), x)\n",
    "    return float(df_dx.subs(x, x_n))\n",
    "\n",
    "### коэффициенты многочлена\n",
    "coefs = [1, 0, 2, -2]\n",
    "\n",
    "# начальное приближение\n",
    "x0 = 1.5\n",
    "\n",
    "# проверка работы метода\n",
    "root = newtons_method(coefs, x0)\n",
    "if root is not None:\n",
    "    print(f\"Корень: {root}\")\n",
    "else:\n",
    "    print(\"Метод Ньютона не сходится.\")"
   ]
  },
  {
   "cell_type": "markdown",
   "metadata": {},
   "source": [
    "# Упрощенный метод Ньютона"
   ]
  },
  {
   "cell_type": "code",
   "execution_count": 28,
   "metadata": {},
   "outputs": [
    {
     "name": "stdout",
     "output_type": "stream",
     "text": [
      "Корень: 1.2971565081774243\n"
     ]
    }
   ],
   "source": [
    "import sympy as sp\n",
    "\n",
    "def common_newtons_method(coefs, x0, e=1e-6, max_iter=100):\n",
    "    x_n = float(x0) \n",
    "    dfunc = deriv(x_n, coefs)\n",
    "\n",
    "    for i in range(max_iter):\n",
    "\n",
    "        func = f(x_n, coefs)  \n",
    "        x_next = x_n - func / dfunc \n",
    "\n",
    "        stop = abs(x_next - x_n) / max(1, abs(x_next))\n",
    "\n",
    "        if stop < e:  \n",
    "            return x_next  \n",
    "\n",
    "        x_n = x_next \n",
    "\n",
    "    return None\n",
    "\n",
    "# функция\n",
    "def f(x, coefs):\n",
    "    return sum(float(coefs[i] * x ** i) for i in range(len(coefs)))\n",
    "\n",
    "# производная\n",
    "def deriv(x_n, coefs):\n",
    "    x = sp.Symbol('x')\n",
    "    df_dx = sp.diff(sum(coefs[i] * x ** i for i in range(len(coefs))), x)\n",
    "    return float(df_dx.subs(x, x_n))\n",
    "\n",
    "### коэффициенты многочлена\n",
    "coefs = [1, 0, 2, -2]\n",
    "\n",
    "# начальное приближение\n",
    "x0 = 1.5\n",
    "\n",
    "# проверка работы метода\n",
    "root = newtons_method(coefs, x0)\n",
    "if root is not None:\n",
    "    print(f\"Корень: {root}\")\n",
    "else:\n",
    "    print(\"Метод Ньютона не сходится.\")"
   ]
  }
 ],
 "metadata": {
  "kernelspec": {
   "display_name": "venv",
   "language": "python",
   "name": "python3"
  },
  "language_info": {
   "codemirror_mode": {
    "name": "ipython",
    "version": 3
   },
   "file_extension": ".py",
   "mimetype": "text/x-python",
   "name": "python",
   "nbconvert_exporter": "python",
   "pygments_lexer": "ipython3",
   "version": "3.11.5"
  }
 },
 "nbformat": 4,
 "nbformat_minor": 2
}
